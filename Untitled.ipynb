{
 "cells": [
  {
   "cell_type": "code",
   "execution_count": 4,
   "metadata": {},
   "outputs": [
    {
     "name": "stdout",
     "output_type": "stream",
     "text": [
      "Collecting googlemaps\n",
      "  Downloading googlemaps-4.6.0.tar.gz (31 kB)\n",
      "  Preparing metadata (setup.py): started\n",
      "  Preparing metadata (setup.py): finished with status 'done'\n",
      "Requirement already satisfied: requests<3.0,>=2.20.0 in c:\\users\\enriq\\anaconda3\\lib\\site-packages (from googlemaps) (2.24.0)\n",
      "Requirement already satisfied: certifi>=2017.4.17 in c:\\users\\enriq\\anaconda3\\lib\\site-packages (from requests<3.0,>=2.20.0->googlemaps) (2020.6.20)\n",
      "Requirement already satisfied: chardet<4,>=3.0.2 in c:\\users\\enriq\\anaconda3\\lib\\site-packages (from requests<3.0,>=2.20.0->googlemaps) (3.0.4)\n",
      "Requirement already satisfied: urllib3!=1.25.0,!=1.25.1,<1.26,>=1.21.1 in c:\\users\\enriq\\anaconda3\\lib\\site-packages (from requests<3.0,>=2.20.0->googlemaps) (1.25.11)\n",
      "Requirement already satisfied: idna<3,>=2.5 in c:\\users\\enriq\\anaconda3\\lib\\site-packages (from requests<3.0,>=2.20.0->googlemaps) (2.10)\n",
      "Building wheels for collected packages: googlemaps\n",
      "  Building wheel for googlemaps (setup.py): started\n",
      "  Building wheel for googlemaps (setup.py): finished with status 'done'\n",
      "  Created wheel for googlemaps: filename=googlemaps-4.6.0-py3-none-any.whl size=38537 sha256=3eff2469cbb41388520bfb72277da01f4cdcb2ba36c96db8c4a1a9ca7846a922\n",
      "  Stored in directory: c:\\users\\enriq\\appdata\\local\\pip\\cache\\wheels\\2d\\e9\\ee\\336c1792ed04efbf4fe9c89662d701f5c1f1fdddf8782951d3\n",
      "Successfully built googlemaps\n",
      "Installing collected packages: googlemaps\n",
      "Successfully installed googlemaps-4.6.0\n"
     ]
    },
    {
     "name": "stderr",
     "output_type": "stream",
     "text": [
      "WARNING: Ignoring invalid distribution -ython (c:\\users\\enriq\\anaconda3\\lib\\site-packages)\n",
      "WARNING: Ignoring invalid distribution -ython (c:\\users\\enriq\\anaconda3\\lib\\site-packages)\n",
      "WARNING: Ignoring invalid distribution -ython (c:\\users\\enriq\\anaconda3\\lib\\site-packages)\n",
      "WARNING: Ignoring invalid distribution -ython (c:\\users\\enriq\\anaconda3\\lib\\site-packages)\n",
      "WARNING: Ignoring invalid distribution -ython (c:\\users\\enriq\\anaconda3\\lib\\site-packages)\n",
      "WARNING: Ignoring invalid distribution -ython (c:\\users\\enriq\\anaconda3\\lib\\site-packages)\n",
      "WARNING: Ignoring invalid distribution -ython (c:\\users\\enriq\\anaconda3\\lib\\site-packages)\n"
     ]
    }
   ],
   "source": [
    "!pip install googlemaps"
   ]
  },
  {
   "cell_type": "code",
   "execution_count": 5,
   "metadata": {},
   "outputs": [],
   "source": [
    "import pandas as pd\n",
    "import googlemaps\n",
    "from itertools import tee"
   ]
  },
  {
   "cell_type": "code",
   "execution_count": null,
   "metadata": {},
   "outputs": [],
   "source": [
    "df = pd.read_excel('SNG-21_enero.xlsx')"
   ]
  },
  {
   "cell_type": "code",
   "execution_count": null,
   "metadata": {},
   "outputs": [],
   "source": [
    "API_key = 'AIzaSyCiF10X_example'#enter Google Maps API key\n",
    "gmaps = googlemaps.Client(key=API_key)"
   ]
  },
  {
   "cell_type": "code",
   "execution_count": null,
   "metadata": {},
   "outputs": [],
   "source": []
  }
 ],
 "metadata": {
  "kernelspec": {
   "display_name": "Python 3",
   "language": "python",
   "name": "python3"
  },
  "language_info": {
   "codemirror_mode": {
    "name": "ipython",
    "version": 3
   },
   "file_extension": ".py",
   "mimetype": "text/x-python",
   "name": "python",
   "nbconvert_exporter": "python",
   "pygments_lexer": "ipython3",
   "version": "3.8.5"
  }
 },
 "nbformat": 4,
 "nbformat_minor": 4
}
